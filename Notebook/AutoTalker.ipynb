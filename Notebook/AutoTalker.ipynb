{
  "cells": [
    {
      "cell_type": "markdown",
      "source": [
        "[![Open In Colab](https://colab.research.google.com/assets/colab-badge.svg)](https://colab.research.google.com/github/Pmking27/AutoTalker/blob/main/Notebook/AutoTalker.ipynb)"
      ],
      "metadata": {
        "id": "3U5-UrY0nvFT"
      }
    },
    {
      "cell_type": "markdown",
      "source": [
        "## 1. Install Python 3.10.6"
      ],
      "metadata": {
        "id": "ua6bKMsok_YA"
      }
    },
    {
      "cell_type": "code",
      "source": [
        "# Install Python 3.10.6\n",
        "!sudo apt-get update\n",
        "!sudo apt-get install python3.10"
      ],
      "metadata": {
        "id": "nuEkerHzmKnS"
      },
      "execution_count": null,
      "outputs": []
    },
    {
      "cell_type": "markdown",
      "source": [
        "## 2. Install ffmpeg"
      ],
      "metadata": {
        "id": "BG594E_8mRLR"
      }
    },
    {
      "cell_type": "code",
      "source": [
        "!apt-get install ffmpeg"
      ],
      "metadata": {
        "id": "bCQiV1jxmTLJ"
      },
      "execution_count": null,
      "outputs": []
    },
    {
      "cell_type": "markdown",
      "source": [
        "## 3. Clone the AutoTalker repository"
      ],
      "metadata": {
        "id": "pHpGlfYemaot"
      }
    },
    {
      "cell_type": "code",
      "source": [
        "!git clone https://github.com/Pmking27/AutoTalker\n",
        "%cd AutoTalker"
      ],
      "metadata": {
        "id": "kKrbmVM1menb"
      },
      "execution_count": null,
      "outputs": []
    },
    {
      "cell_type": "markdown",
      "source": [
        "## 4. Download SadTalker with Models and Weights"
      ],
      "metadata": {
        "id": "4HHA8jxgmpys"
      }
    },
    {
      "cell_type": "code",
      "source": [
        "!python download_models.py"
      ],
      "metadata": {
        "id": "NajEPZFtmyPs"
      },
      "execution_count": null,
      "outputs": []
    },
    {
      "cell_type": "markdown",
      "source": [
        "##5. Install required libraries"
      ],
      "metadata": {
        "id": "8aCH_i29m02D"
      }
    },
    {
      "cell_type": "code",
      "execution_count": null,
      "metadata": {
        "id": "bJKCPq7CKsCk"
      },
      "outputs": [],
      "source": [
        "!pip install torch==2.0.0 torchvision==0.15.1 torchaudio==2.0.1 --index-url https://download.pytorch.org/whl/cu118\n",
        "\n",
        "!pip install git+https://github.com/suno-ai/bark.git\n",
        "\n",
        "!pip install -U openai-whisper\n",
        "\n",
        "!pip install pydub\n",
        "\n",
        "!pip install moviepy\n",
        "\n",
        "!pip install numpy\n",
        "\n",
        "!pip install pillow\n",
        "\n",
        "!pip install google-generativeai\n",
        "\n",
        "!pip install noisereduce\n",
        "\n",
        "!pip install pedalboard\n",
        "\n",
        "!pip install gradio\n",
        "\n",
        "!pip install --quiet git+https://github.com/huggingface/transformers.git\n",
        "\n",
        "!pip install --quiet git+https://github.com/huggingface/optimum.git\n",
        "\n",
        "!pip install --quiet git+https://github.com/huggingface/accelerate.git\n",
        "\n",
        "!git clone https://github.com/OpenTalker/SadTalker.git\n",
        "\n",
        "!pip install -r ./SadTalker/requirements.txt\n",
        "\n"
      ]
    },
    {
      "cell_type": "markdown",
      "source": [
        "##6. Set up environment variables for Gemini API Key"
      ],
      "metadata": {
        "id": "5F6UxYyAmZqh"
      }
    },
    {
      "cell_type": "code",
      "execution_count": null,
      "metadata": {
        "id": "h_dCPv5yz29B"
      },
      "outputs": [],
      "source": [
        "%env GEMINI_KEY=YOUR_GEMINI_KEY"
      ]
    },
    {
      "cell_type": "markdown",
      "source": [
        "## 7. Configure ImageMagick"
      ],
      "metadata": {
        "id": "nVOszpicnZu7"
      }
    },
    {
      "cell_type": "code",
      "source": [
        "!apt-get install -y imagemagick\n",
        "!sed -i 's/none/read,write/g' /etc/ImageMagick-6/policy.xml\n",
        "!cat /etc/ImageMagick-6/policy.xml | sed 's/none/read,write/g'> /etc/ImageMagick-6/policy.xml"
      ],
      "metadata": {
        "id": "8SA1yTutnRwV"
      },
      "execution_count": null,
      "outputs": []
    },
    {
      "cell_type": "markdown",
      "source": [
        "## 8. Run AutoTalker"
      ],
      "metadata": {
        "id": "Nq_VqWG7nhyo"
      }
    },
    {
      "cell_type": "code",
      "execution_count": null,
      "metadata": {
        "id": "3SSGUmJ_cu8Q"
      },
      "outputs": [],
      "source": [
        "import os\n",
        "%cd AutoTalker\n",
        "os.environ[\"MAGICK_HOME\"] = \"/usr\"\n",
        "!python main.py"
      ]
    }
  ],
  "metadata": {
    "accelerator": "GPU",
    "colab": {
      "gpuType": "T4",
      "provenance": []
    },
    "kernelspec": {
      "display_name": "Python 3",
      "name": "python3"
    },
    "language_info": {
      "name": "python"
    }
  },
  "nbformat": 4,
  "nbformat_minor": 0
}
